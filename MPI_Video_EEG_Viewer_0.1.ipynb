{
 "cells": [
  {
   "cell_type": "code",
   "execution_count": 1,
   "metadata": {
    "collapsed": true
   },
   "outputs": [],
   "source": [
    "from view import*\n",
    "from controller import *\n",
    "from model import *"
   ]
  },
  {
   "cell_type": "code",
   "execution_count": 2,
   "metadata": {},
   "outputs": [
    {
     "name": "stdout",
     "output_type": "stream",
     "text": [
      "video_plot\n",
      "video_plot\n",
      "DONE\n"
     ]
    }
   ],
   "source": [
    "if __name__==\"__main__\":\n",
    "    data =  [DataModel(dyad = 33, datatype = \"eeg\") ] #For now SUBJECT TO CHANGE\n",
    "    video = VideoModel(33,1)\n",
    "    app = QtGui.QApplication(sys.argv)\n",
    "    form = MainApp(data, video)\n",
    "    form.show()\n",
    "    form.update() #start with something\n",
    "    app.exec_()\n",
    "    print(\"DONE\")"
   ]
  },
  {
   "cell_type": "code",
   "execution_count": null,
   "metadata": {
    "collapsed": true
   },
   "outputs": [],
   "source": []
  }
 ],
 "metadata": {
  "kernelspec": {
   "display_name": "Python [conda root]",
   "language": "python",
   "name": "conda-root-py"
  },
  "language_info": {
   "codemirror_mode": {
    "name": "ipython",
    "version": 3
   },
   "file_extension": ".py",
   "mimetype": "text/x-python",
   "name": "python",
   "nbconvert_exporter": "python",
   "pygments_lexer": "ipython3",
   "version": "3.6.3"
  }
 },
 "nbformat": 4,
 "nbformat_minor": 2
}
