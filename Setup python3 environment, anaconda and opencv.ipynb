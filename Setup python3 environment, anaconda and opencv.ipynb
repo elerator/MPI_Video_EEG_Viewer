{
 "cells": [
  {
   "cell_type": "markdown",
   "metadata": {},
   "source": [
    "# Setup python3 environment, anaconda and opencv"
   ]
  },
  {
   "cell_type": "markdown",
   "metadata": {},
   "source": [
    "The following steps have to be performed to install python and important packages/libraries for scientific programming. The latter are included in anaconda. OpenCV offers methods for the analysis and manipulation of video and image data.\n"
   ]
  },
  {
   "cell_type": "markdown",
   "metadata": {},
   "source": [
    "## Anaconda\n",
    "\n",
    "Anaconda is a python distribution that includes e.g. numpy or matplotlib. Numpy allows for easy manipulation especially of arrays or tensors of data and offers many mathematical operations that range from histograms to fast fourier transform. Matplotlib offers many methods to display different kinds of data including 2d Matrices i.e. images and 1d dataplots.\n",
    "\n",
    "Beside these packages anaconda includes tools that simplify coding, especially the following:\n",
    "\n",
    "- Jupyter notebooks (this document is a jupyter notebook)\n",
    "- Ipython qtconsole (a more advanced python shell as comared to the standard one)\n",
    "\n",
    "The following steps are required to install the anaconda python distribution."
   ]
  },
  {
   "cell_type": "markdown",
   "metadata": {},
   "source": [
    "Open your termial enter and execute the following line (hit return to execute)."
   ]
  },
  {
   "cell_type": "raw",
   "metadata": {},
   "source": [
    "curl -O https://repo.continuum.io/archive/Anaconda3-5.0.1-Linux-x86_64.sh"
   ]
  },
  {
   "cell_type": "markdown",
   "metadata": {},
   "source": [
    "Preceede with the installation. Execute the following command, read the license agreement (return key to scroll)."
   ]
  },
  {
   "cell_type": "raw",
   "metadata": {},
   "source": [
    "bash Anaconda3-5.0.1-Linux-x86_64.sh"
   ]
  },
  {
   "cell_type": "markdown",
   "metadata": {},
   "source": [
    "Agree by typing yes and hit enter to install in custom location.\n"
   ]
  },
  {
   "cell_type": "markdown",
   "metadata": {},
   "source": [
    "To be able to easily startup jupyter it's a good idea to add your path to the linux startup bash.\n",
    "In order to do that edit the file .bashsrc in your home folder.\n",
    "\n",
    "Use the file manager to navigate to the respective folder (the name matches your user name).\n",
    "\n",
    "Add the following code in a new line at the end of the file."
   ]
  },
  {
   "cell_type": "raw",
   "metadata": {},
   "source": [
    "export PATH=\"/home/raid1/gerstenberger/anaconda3/bin:$PATH\""
   ]
  },
  {
   "cell_type": "markdown",
   "metadata": {},
   "source": [
    "After restart/relogin you may start jupyter by executing the following command:"
   ]
  },
  {
   "cell_type": "raw",
   "metadata": {},
   "source": [
    "jupyter notebook"
   ]
  },
  {
   "cell_type": "markdown",
   "metadata": {},
   "source": [
    "To open the qt console you may use the command: "
   ]
  },
  {
   "cell_type": "raw",
   "metadata": {},
   "source": [
    "ipython qtconsole"
   ]
  },
  {
   "cell_type": "markdown",
   "metadata": {},
   "source": [
    "## OpenCV"
   ]
  },
  {
   "cell_type": "markdown",
   "metadata": {},
   "source": [
    "Use the following command to install opencv2."
   ]
  },
  {
   "cell_type": "raw",
   "metadata": {},
   "source": [
    "conda install -c menpo opencv"
   ]
  },
  {
   "cell_type": "markdown",
   "metadata": {},
   "source": [
    "To check which version you may start python from the console."
   ]
  },
  {
   "cell_type": "raw",
   "metadata": {},
   "source": [
    "python"
   ]
  },
  {
   "cell_type": "markdown",
   "metadata": {},
   "source": [
    "Then import opencv and print the version. If this notebook is running on your system simply execute the following cell (shift-enter)"
   ]
  },
  {
   "cell_type": "code",
   "execution_count": null,
   "metadata": {
    "collapsed": true
   },
   "outputs": [],
   "source": [
    "import cv2\n",
    "cv2.__version__"
   ]
  },
  {
   "cell_type": "markdown",
   "metadata": {},
   "source": [
    "The version I used was '3.4.2'. If problems occur with later versions you might want to change to 3.4.2.\n",
    "\n",
    "If problems occur also relogin / restarting the computer may be necessary."
   ]
  },
  {
   "cell_type": "markdown",
   "metadata": {},
   "source": [
    "## PyQT"
   ]
  },
  {
   "cell_type": "markdown",
   "metadata": {},
   "source": [
    "PyQt may be installed via the anaconda installation manager:"
   ]
  },
  {
   "cell_type": "raw",
   "metadata": {},
   "source": [
    "conda install -c anaconda pyqt"
   ]
  },
  {
   "cell_type": "markdown",
   "metadata": {},
   "source": [
    "Additionally pyqtgraph is a useful tool for scientific gui programming. It is used to display interactive plots. Install it via pip:"
   ]
  },
  {
   "cell_type": "raw",
   "metadata": {},
   "source": [
    "pip install pyqtgraph"
   ]
  }
 ],
 "metadata": {
  "kernelspec": {
   "display_name": "Python 3",
   "language": "python",
   "name": "python3"
  },
  "language_info": {
   "codemirror_mode": {
    "name": "ipython",
    "version": 3
   },
   "file_extension": ".py",
   "mimetype": "text/x-python",
   "name": "python",
   "nbconvert_exporter": "python",
   "pygments_lexer": "ipython3",
   "version": "3.6.3"
  }
 },
 "nbformat": 4,
 "nbformat_minor": 2
}
